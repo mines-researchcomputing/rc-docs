{
 "cells": [
  {
   "cell_type": "markdown",
   "metadata": {},
   "source": [
    "# Parallel Scaling Guide\n",
    "\n",
    "## Software Prerequisities for Guide\n",
    "\n",
    "* Python\n",
    "    + Jupyter Notebook\n",
    "    + NumPy\n",
    "    + mpi4py\n",
    "    + matplotlib\n",
    "* Slurm/HPC access (if you want to run the parallel benchmakrs with Slurm)\n",
    "\n",
    "## Introduction\n",
    "\n",
    "One of the biggest pros to using high performance computing (HPC) is the ability to use multiple processors, even across multiple computing nodes. However, due to a combination of factors, including but not limited to: algorithm choice, network protocols/bandwidth/throughput, memory, libraries, and CPU-threading, adding more processors doesn't necessarily lead to faster performance. In this guide, we will go through a computing example to show how to measure performance and how best to use HPC resources for a scientific simulation.    \n",
    "\n",
    "## Prerequisities to use this Guide\n",
    "\n",
    "## What is parallel scalability?\n",
    "\n",
    "Parallel scalability is a measurement of how efficient a simulation's runtime is affected by changes in computing resources. For this guide, we will focus on the following two degrees of freedom that are modified to determine paralel scalability:\n",
    "\n",
    "* Problem size (memory)  \n",
    "* Number of processors    \n",
    "\n",
    "## Before considering parallel scalability\n",
    "\n",
    "Before we can discuss parallel scalability, we need to step back and make sure that:\n",
    "\n",
    "1. Your software supports a parallelization model\n",
    "2. The performance of your simulations when using only one processor\n",
    "\n",
    "### Parallelization Support\n",
    "\n",
    "There are various paradigms of parallel computing that be used to allow your software to use multiple processors. Some of the most popular programming models include:    \n",
    "\n",
    "* Message Passing Interface (MPI)\n",
    "    - OpenMPI\n",
    "    - MPICH\n",
    "    - Intel MPI\n",
    "* OpenMP\n",
    "* NVIDIA CUDA\n",
    "* Dask (Python)\n",
    "    - We will be writing a separate guide for this!\n",
    "* Hybrid (e.g. MPI+OpenMP)\n",
    "\n",
    "The choice of  which parallel programming model to use will largely depend on your problem size and resources required. If you need help getting started with parallel programming in your research code, feel free to [reach out for a consultation](https://ciarc.mines.edu)!\n",
    "\n",
    "### Serial Performance\n",
    "\n",
    "When running simulations with a single processor, we call this a **serial run**. However, it is recommended to try to make optimizations for how fast your serial run is before you jump into a parallel programming model. Depending on your programming language, there are common tools to profile code. We list some common ones below:\n",
    "\n",
    "* C/C++ and Fortran: [GNU gprof](http://sourceware.org/binutils/docs/gprof/)\n",
    "* Python: [cProfile](https://docs.python.org/3/library/profile.html)\n",
    "* Matlab: [profile](https://www.mathworks.com/help/matlab/matlab_prog/profiling-for-improving-performance.html)\n",
    "\n",
    "If you need more help profiliing and optimizing your code, feel free to open a ticket at the [Help Desk](https://helpcenter.mines.edu/TDClient/1946/Portal/Requests/ServiceDet?ID=33487) and we'd happy to help you! \n",
    "\n",
    "## Measuring Parallel Scalability\n",
    "\n",
    "### Notation\n",
    "\n",
    "The table below summarizes the notation we will use for this section.\n",
    "\n",
    "| Variable      | Description |\n",
    "| ----------- | ----------- |\n",
    "| $P$      | Number of processors  |\n",
    "| $n$   | Problem size (e.g. $n$ is number of mesh cells, etc) |\n",
    "| $T_{P, max}$      | Max wall time with $P$ processors  |\n",
    "| $T_{P, avg}$      | Average wall time across $P$ processors  |\n",
    "| $T_{P, N}$      | Wall time from the $N$-th out of $P$ processors  |\n",
    "| $S_P$   | Speedup with $P$ processors |\n",
    "| $E_P$   | Efficiency with $P$ processors |\n",
    "| $\\beta_{P}$   | Load balance with $P$ processors |\n",
    "\n",
    "### Performance Metrics\n",
    "\n",
    "In this section we will summarize these common metrics used to benchmark parallel performance. \n",
    "\n",
    "#### Wall Time\n",
    "\n",
    "The base measurement one should use is the wall time of the simulation. However, wall time between each processor ($T_{P,N}$ for processor $N$) \n",
    "may be different. Hence, we use two different metrics for wall time, the average $T_{P, max}$ and the processor with the maximum wall time, $T_{P,max}$. For, the derived metrics (speedup, etc), we use $T_{P,max}$. \n",
    "\n",
    "#### Speed-up\n",
    "\n",
    "The first commonly used metric for measuring parallel performance is **speed-up**. This measurement allows one to see how a code scales relative to the serial case. It is typically defined as the ratio of the serial wall time to the parallel (with $P$ processors) wall time:\n",
    "\n",
    "$$ S_{P} = \\frac{T_{1, max}}{T_{P,max}}.$$\n",
    "\n",
    "We call the speedup **ideal** if $S_{P} = P$, since the the wall time decreases by factor equal to the number of processors. However, in most parallel codes, $S_P < P$. \n",
    "\n",
    "#### Efficiency\n",
    "\n",
    "Another useful derived metric for measuring parallel performance is **efficiency**. This can be thought of as a *relative* speed-up since it measures the fraction of cores are being used in the computation. It is defined by:\n",
    "\n",
    "$$ E_{P} = \\frac{ S_{P} }{P}.$$\n",
    "\n",
    "Hence, we call it **ideal** efficiency when $E_{P} = 1$. Again, in most parallel codes, $E_P < 1$. \n",
    "\n",
    "#### Load balancing\n",
    "\n",
    "The metrics above give one a sense of the general performance of the parallel code, but it doesn't measure how each core contributes to its performance. Furthermore, we may also want to know if there are bottlenecks caused by communication between cores. One way to measure this is to use a **load balancing** metric:\n",
    "\n",
    "$$ \\beta_P = \\frac{ T_{P,avg}}{ T_{P,max} }.$$\n",
    "\n",
    "Load balancing is **ideal** if $\\beta_P = 1$. If you see that your load balance number is very small, i.e. $T_{P,avg} << T_{P,max}$, then you may want to re-examine your parallel components of your code and also look at the individual wall times of each processors to determine where the bottleneck is coming from. \n",
    "\n",
    "#### Other metrics\n",
    "\n",
    "There are other metrics, such as parallel rule of thumb and the Karp-Flatt Balance metric, but we won't get into them here. Please see the references below if you want to learn more!\n",
    "\n",
    "\n",
    "###  Basic Theory\n",
    "\n",
    "Although we have practical metrics that can be computated *a posterior* to a simulation, it is helpful to know some theory to better gauge what these metrics can tell us about our parallel performance. In this section, we will go over some basic theory on parallel scaling. We will briefly cover two important Laws with regards to parallel computing: Amdhal's and Gustavon's Laws. We will also discuss their relations to two other important parallel computing concepts: strong and weak scaling. \n",
    "\n",
    "\n",
    "#### Amdahl's Law\n",
    "\n",
    "With any parallel code, there may be limitations on what can actually be paralleizable; some portions of the code may be serial only and can limit the scalability of the code. In 1967, Gene Amdhal proposed a way to predict how much a code can scale due to a serial bottleneck [4]. Amdhal's Law can be summarized with the following equation relating to speedup $S_{P,Am}$[4]:\n",
    "\n",
    "$$ S_{P,Am} = \\frac{1}{F_{s} + \\frac{F_{p}}{P}}$$\n",
    "\n",
    "where $F_{s}$ is the *theoretical* serial fraction spent on the serial portion of the code, while $F_{p}$ is the fraction of the runtime spent on the code that is parallelizable. Hence, $F_p + F_s = 1$ and Amdahl's law can be simplified to:\n",
    "\n",
    "$$ S_{P,Am}(F_{s}) = \\frac{1}{F_{s} + \\frac{1-F_{s}}{P}}$$\n",
    "\n",
    "We can plot this now as a function of $F_{s}$ using Python's scientific modules (numpy, matplotlib):"
   ]
  },
  {
   "cell_type": "code",
   "execution_count": 2,
   "metadata": {},
   "outputs": [
    {
     "data": {
      "image/png": "[encoded data removed]",
      "text/plain": [
       "<Figure size 864x672 with 1 Axes>"
      ]
     },
     "metadata": {
      "needs_background": "light"
     },
     "output_type": "display_data"
    }
   ],
   "source": [
    "import numpy as np\n",
    "import matplotlib.pyplot as plt\n",
    "\n",
    "# define the serial fraction using a linear space in NumPy\n",
    "N = 101 # plotting grid resolution\n",
    "F_s = np.linspace(0,0.1,N)\n",
    "S_P_Am = np.empty(N)\n",
    "\n",
    "# set the number of processors\n",
    "P = 1024\n",
    "S_P_Am[:] = 1.0/( F_s[:] + (1.0-F_s[:])/float(P) )\n",
    "plt.figure(figsize=(9,7), dpi=96)\n",
    "plt.plot(F_s,S_P_Am,'-', linewidth=3)\n",
    "plt.xlabel(r\"Serial Fraction ($F_s$)\")\n",
    "plt.ylabel(r\"Speedup ($S_{P, Am}$)\")\n",
    "plt.title(r\"Amdahl's Law: Theoretical Speedup, P = \"+str(P))\n",
    "plt.grid(True)"
   ]
  },
  {
   "cell_type": "markdown",
   "metadata": {},
   "source": [
    "As we can see from the plot above, Amdahl's law shows a a severe constraint to parallel scalability if a large portion of your code is in serial. For example, if $F_s = 0.05$ and $P = 1024$, the theoretical speedup is approximately 167 times the serial performance. Even worse, with $F_s = 0.1$, the theoretical speedup drops to approximately 9.9 times the serial performance with 1024 processors! \n",
    "\n",
    "However, we should take this equation with a caution since it makes many assumptions for the computation. First, it doesn't take into account memory bandwidth (RAM, CPU Cache, etc) and/or disk read/write speeds. Furthermore, it also ignores that $F_p$ could be a function of the number of processors $P$ (e.g $F_p = F_p(P)$) caused by algorithmic choices (and/or hardware bottlenecks). \n",
    "\n",
    "#### Strong Scaling\n",
    "\n",
    "One assumption of Amdhal's law was that the problem size was fixed; we showed how the theoretical speedup was affected for a problem that doesn't change when you change the another of processors. When you compare speedup vs number of processors for a fixed problem size, we call this **strong scaling**. As noted above, a consequence of this is that expected speedup should not be guaranteed, as the serial fraction may become larger as the number processors is increased. Nevertheless, it is an important metric when evaluating parallel performance. \n",
    "\n",
    "\n",
    "#### Weak Scaling & Gustafson's Law \n",
    "\n",
    "Another way to think about parallel performance how is the code scales as you increase the problem size **with** the number of processors. When measuring speedup in this way, we call this **weak scaling**. \n",
    "\n",
    "In response to Amdhal's Law, John Gustafson argued that the assumptions from Amdahl's Law for $P = 1024$ was not appropriate for all parallel workloads [4]. With work at Sandia National Lab, whom Gustafason was associated with at the time of this argument, he noted many scientific problems where Amdahl's Law didn't hold up to scrutiny. At the crux of it was the implicit assumpion that the serial time spent by a processing core was **not** independent of the number of processors $P$. \n",
    "\n",
    "As an approximation, Gustafson found that the parallel part of a program scales with the problem size. Hence, one can assume that the amount of work done in parallel is linearly proportional to the number of processors. This leads to the following expression colloquially known as *Gustafson's Law*:\n",
    "\n",
    "$$ S_{P, Gu} = P + (1-P) F_{s} $$\n",
    "\n",
    "Here, $S_{P, Gu}$ is referred to as *scaled speedup* due to the assumption of the program scaling with problem size. We plot the scaled speedup plot for $P=1024$ below:\n",
    "\n",
    "\n",
    "\n"
   ]
  },
  {
   "cell_type": "code",
   "execution_count": 3,
   "metadata": {},
   "outputs": [
    {
     "data": {
      "image/png": "[encoded data removed]",
      "text/plain": [
       "<Figure size 864x672 with 1 Axes>"
      ]
     },
     "metadata": {
      "needs_background": "light"
     },
     "output_type": "display_data"
    }
   ],
   "source": [
    "import numpy as np\n",
    "import matplotlib.pyplot as plt\n",
    "\n",
    "# define the serial fraction using a linear space in NumPy\n",
    "N = 101 # plotting grid resolution\n",
    "F_s = np.linspace(0,0.1,N)\n",
    "S_P_Gu = np.empty(N)\n",
    "\n",
    "# set the number of processors\n",
    "P = 1024\n",
    "S_P_Gu[:] = float(P) + (1.0-float(P))*F_s[:]\n",
    "plt.figure(figsize=(9,7), dpi=96)\n",
    "plt.plot(F_s,S_P_Gu,'-', linewidth=3)\n",
    "plt.xlabel(r\"Serial Fraction ($F_s$)\")\n",
    "plt.ylabel(r\"Scaled Speedup ($S_{P, Am}$)\")\n",
    "plt.title(r\"Gustafson's Law: Theoretical Speedup, P = \"+str(P))\n",
    "plt.grid(True)"
   ]
  },
  {
   "cell_type": "markdown",
   "metadata": {},
   "source": [
    "In practice, it is good to both test for weak and strong scaling of your program to see how the problem scales with the number of processors both for a fixed and proportionally growing problem size. In the next section, we will go through an example using matrix multiplication on how to do such an analysis."
   ]
  },
  {
   "cell_type": "markdown",
   "metadata": {},
   "source": [
    "## Example: Parallel Matrix-Vector Multiplication using Python\n",
    "\n",
    "Next we will discuss an example of a matrix-vector multiplication algorithm  that we can build up to be parallel and how to evaluate its performance. Prior to evaluating parallel performance, we will first look at how to setup the algorithm in various methods using Python and try to optimize its serial performance first.\n",
    "\n",
    "\n",
    "Consider an $m \\times n$ matrix $A$ and $n \\times 1$ vector $\\vec{v}$. Multiplying $A$ with $\\vec{v}$ results in a $m \\times 1$ vector $\\vec{b}$:\n",
    "\n",
    "$$ A \\vec{v} = \\vec{b} $$\n",
    "\n",
    "\n",
    "We begin by exploring serial performance, since we want to make sure we've done our best for its serial performance before moving on to improving it usuing parallelization.\n",
    "\n",
    "### Serial Matrix-Vector Multiplicaton using Python\n",
    "\n",
    "#### Pure Python Implementation\n",
    "\n",
    "Due to being an interpreted language, Python is well known to have [poor performance with for-loops](https://stackoverflow.com/questions/8097408/why-python-is-so-slow-for-a-simple-for-loop), but for the sake of exercise, we're first going to implement this matrix-vector product in pure python. \n",
    "The pseudocode to compute this matrix-vector multiplication in serial looks like:\n",
    "\n",
    "    Define matrix A(m,n)\n",
    "    Define vector v(n,1)\n",
    "    Define vector b(m,1) = 0 # Zero vector\n",
    "    \n",
    "    for i = 1 to m\n",
    "        for j = 1 to n\n",
    "            b(i,1) += A(i,j) * v(j, 1)\n",
    "        end for\n",
    "    end for\n",
    "    \n",
    "    \n",
    "To write this in python, it looks like:"
   ]
  },
  {
   "cell_type": "code",
   "execution_count": 163,
   "metadata": {},
   "outputs": [],
   "source": [
    "import random \n",
    "\n",
    "def rand_matrix_vector_mm_pure_python(m,n):\n",
    "    # inputs:\n",
    "    # m : number of rows\n",
    "    # n : number of columns \n",
    "    # outputs:\n",
    "    # b : m x 1 vector \n",
    "\n",
    "    # in pure python, we will use lists to store the values of the matrix and vectors\n",
    "    # use random module to generate A and v\n",
    "    A = [[random.random() for j in range(n)]   for i in range(m)]\n",
    "    v = [random.random() for j in range(n)]\n",
    "\n",
    "    b = []\n",
    "\n",
    "    for i in range(0,m):\n",
    "        b.append(0.0) # create next zero as a zero to setup for matrix-vector product storage.\n",
    "        for j in range(0, n):\n",
    "             b[i] += A[i][j] * v[j]\n",
    "    return b"
   ]
  },
  {
   "cell_type": "markdown",
   "metadata": {},
   "source": [
    "We can now test this Pure Python matrix-vector multiply's performance for a large 10000 x 10000 matrix:"
   ]
  },
  {
   "cell_type": "code",
   "execution_count": 179,
   "metadata": {},
   "outputs": [
    {
     "name": "stdout",
     "output_type": "stream",
     "text": [
      "21.3 s ± 156 ms per loop (mean ± std. dev. of 7 runs, 1 loop each)\n"
     ]
    }
   ],
   "source": [
    "%timeit rand_matrix_vector_mm_pure_python(10000,10000)"
   ]
  },
  {
   "cell_type": "markdown",
   "metadata": {},
   "source": [
    "We now have our baseline performance of a matrix-vector product using Pure Python.\n",
    "\n",
    "\n",
    "#### NumPy Array Implementation\n",
    "\n",
    "Next we can rewrite our function above, but now use NumPy arrays. We will also switch to numpy's built in random matrix function `random.rand()`. \n",
    "\n"
   ]
  },
  {
   "cell_type": "code",
   "execution_count": 180,
   "metadata": {},
   "outputs": [],
   "source": [
    "import numpy as np\n",
    "\n",
    "def rand_matrix_vector_mm_np_array_loop(m,n):\n",
    "    # inputs:\n",
    "    # m : number of rows\n",
    "    # n : number of columns \n",
    "    # outputs:\n",
    "    # b : m x 1 vector \n",
    "\n",
    "    # in pure python, we will use lists to store the values of the matrix and vectors\n",
    "    # use random module to generate A and v\n",
    "    A = np.random.rand(m,n)\n",
    "    v = np.random.rand(n,1)\n",
    "    \n",
    "    b = np.zeros((m,1))\n",
    "\n",
    "    for i in range(0,m):\n",
    "        for j in range(0, n):\n",
    "             b[i] += A[i,j] * v[j]\n",
    "    return b"
   ]
  },
  {
   "cell_type": "markdown",
   "metadata": {},
   "source": [
    "If we time this function using a 10000 x 10000 matrix again, we see that our performance drops even more due to the for-loop using NumPy arrays:"
   ]
  },
  {
   "cell_type": "code",
   "execution_count": 181,
   "metadata": {},
   "outputs": [
    {
     "name": "stdout",
     "output_type": "stream",
     "text": [
      "4min 13s ± 176 ms per loop (mean ± std. dev. of 7 runs, 1 loop each)\n"
     ]
    }
   ],
   "source": [
    "%timeit rand_matrix_vector_mm_np_array_loop(10000,10000)"
   ]
  },
  {
   "cell_type": "markdown",
   "metadata": {},
   "source": [
    "If we vectorize the inner loop and use a dot product, we can actually improve this performance:"
   ]
  },
  {
   "cell_type": "code",
   "execution_count": 157,
   "metadata": {},
   "outputs": [],
   "source": [
    "import numpy as np\n",
    "\n",
    "def rand_matrix_vector_mm_np_array_vectorize(m,n):\n",
    "    # inputs:\n",
    "    # m : number of rows\n",
    "    # n : number of columns \n",
    "    # outputs:\n",
    "    # b : m x 1 vector \n",
    "\n",
    "    # in pure python, we will use lists to store the values of the matrix and vectors\n",
    "    # use random module to generate A and v\n",
    "    A = np.random.rand(m,n)\n",
    "    v = np.random.rand(n,1)\n",
    "\n",
    "    b = np.zeros((m,1))\n",
    "    for i in range(0,m):\n",
    "        b[i] = np.dot(A[i,:],v[:]) \n",
    "    return b"
   ]
  },
  {
   "cell_type": "code",
   "execution_count": 183,
   "metadata": {},
   "outputs": [
    {
     "name": "stdout",
     "output_type": "stream",
     "text": [
      "1.09 s ± 44.6 ms per loop (mean ± std. dev. of 7 runs, 1 loop each)\n"
     ]
    }
   ],
   "source": [
    "%timeit rand_matrix_vector_mm_np_array_vectorize(10000,10000)"
   ]
  },
  {
   "cell_type": "markdown",
   "metadata": {},
   "source": [
    "By removing the inner loop and utilizing NumPy's dot product function instead, we see an order of magnitude improvement over the Pure Python case, and 4 orders of magnitude performance over the NumPy Array-loop method. Can we do better than this?\n",
    "\n",
    "#### NumPy's built-in Matrix-vector multiplication function: matmul()\n",
    "\n",
    "Next we will remove the loops entirely and use NumPy's built-in matrix-multiplication function `matmul()':"
   ]
  },
  {
   "cell_type": "code",
   "execution_count": 172,
   "metadata": {},
   "outputs": [],
   "source": [
    "import numpy as np\n",
    "\n",
    "def rand_matrix_vector_mm_np_matmul(m,n):\n",
    "    # inputs:\n",
    "    # m : number of rows\n",
    "    # n : number of columns \n",
    "    # outputs:\n",
    "    # b : m x 1 vector \n",
    "\n",
    "    # in pure python, we will use lists to store the values of the matrix and vectors\n",
    "    # use random module to generate A and v\n",
    "    A = np.random.rand(m,n)\n",
    "    v = np.random.rand(n,1)    \n",
    "\n",
    "    b = np.zeros((m,1))\n",
    "    b = np.matmul(A,v)\n",
    "    return b"
   ]
  },
  {
   "cell_type": "code",
   "execution_count": 184,
   "metadata": {},
   "outputs": [
    {
     "name": "stdout",
     "output_type": "stream",
     "text": [
      "1.01 s ± 1.14 ms per loop (mean ± std. dev. of 7 runs, 1 loop each)\n"
     ]
    }
   ],
   "source": [
    "%timeit rand_matrix_vector_mm_np_matmul(10000,10000)"
   ]
  },
  {
   "cell_type": "markdown",
   "metadata": {},
   "source": [
    "Here we see a marginal improvement over removing the inner loop. However, there other available libraries in Python that could improve our performance!\n",
    "\n",
    "#### Using Numba with NumPy\n",
    "\n",
    "For more performance intensive tasks, the Python library [Numba](https://numba.pydata.org/) can yield potentially faster results in a serial case. \n"
   ]
  },
  {
   "cell_type": "code",
   "execution_count": 177,
   "metadata": {},
   "outputs": [],
   "source": [
    "from numba import *\n",
    "import numpy as np\n",
    "\n",
    "@jit(nopython=True)\n",
    "def rand_matrix_vector_mm_np_matmul_numba(m,n):\n",
    "    # inputs:\n",
    "    # m : number of rows\n",
    "    # n : number of columns \n",
    "    # outputs:\n",
    "    # b : m x 1 vector \n",
    "\n",
    "    # in pure python, we will use lists to store the values of the matrix and vectors\n",
    "    # use random module to generate A and v\n",
    "    A = np.random.rand(m,n)\n",
    "    v = np.random.rand(n,1)    \n",
    "\n",
    "    b = np.zeros((m,1))\n",
    "    b = np.dot(A,v)\n",
    "    return b"
   ]
  },
  {
   "cell_type": "code",
   "execution_count": 185,
   "metadata": {},
   "outputs": [
    {
     "name": "stdout",
     "output_type": "stream",
     "text": [
      "986 ms ± 6.24 ms per loop (mean ± std. dev. of 7 runs, 1 loop each)\n"
     ]
    }
   ],
   "source": [
    "%timeit rand_matrix_vector_mm_np_matmul_numba(10000,10000)"
   ]
  },
  {
   "cell_type": "markdown",
   "metadata": {},
   "source": [
    "Again, we see some marginal improvement by adding in Numba's just-in-time (JIT) compiler. \n",
    "\n",
    "\n",
    "I hope we have made it clear that even taking a little time exploring alternatives for your serial performance will have implications for the parallel performance due to Amdahl's Law. \n",
    "\n",
    "There are other ways we could explore serial performance, which we did not explore here, can include:\n",
    "\n",
    "* Reformulating the problem, such as using SciPy's [sparse matrices](https://docs.scipy.org/doc/scipy/reference/sparse.html) if your matrix has few non-zero entries\n",
    "* Using a C-extension library such as [Cython](https://cython.org/) to port the floating point operation parts of the Python code to C\n",
    "* Porting code completely to a low-level language such as C/C++ or Fortran\n",
    "\n",
    "#### Row-wise Parallelization of  Matrix-vector multiplication in Python using MPI\n",
    "\n",
    "There are many ways one could parallelize a matrix-vector multiplication. When using MPI, the best approach is to use the \"Single Program, Multiple Data\" (SPMD) model [5] of programming. This allows for multiple tasks to be broken up across multiple processors, but all communicated within a single program. \n",
    "\n",
    "A simple way to parallelize a matrix-vector product is is to break up the rows of the matrix into smaller matrices. Rows are favored over breaking up the columns since each column entry of $A$ is a vector which computes a dot product with the corresponding vector $\\vec{v}$. \n",
    "\n",
    "We will divide the $m$ rows of the matrix A equally across all processors $P$, which we will denote by $A_{m_{local}, P}$. However, if $P$ does not divide by $m$ we need to determine what to do with the extra rows. To keep things simple, we will assume that the last processor $P-1$ will compute those extra rows. \n",
    "\n",
    "The submatrices on each processor will then be able to matrix multiply with $\\vec{v}$ using NumPy's `matmul()` function without issue. There for for a given processor $P$, we obtain a local component of the final vector $\\vec{b}_{local, P}$, which comes from:\n",
    "\n",
    "$$ A_{m_{local}, P} \\vec{v} = \\vec{b}_{local, P} $$\n",
    "\n",
    "Finally, to restruct the final solution, we will send all the $\\vec{b}_{local,P}$'s from each processor $P$ to the \"main\" processor, which we call \"rank 0\". This can be done using `mpi4py` with its communicator `send()` and `recv()` commands. Since this is not a guide on `mpi4py` we will just show the final code below:"
   ]
  },
  {
   "cell_type": "code",
   "execution_count": null,
   "metadata": {},
   "outputs": [],
   "source": [
    "import numpy as np\n",
    "import sys\n",
    "from mpi4py import MPI\n",
    "\n",
    "start = MPI.Wtime()\n",
    "\n",
    "# set up MPI communicator\n",
    "comm = MPI.COMM_WORLD\n",
    "\n",
    "# set variables to hold current rank (i.e. processor) and total number of processors\n",
    "rank = comm.rank\n",
    "nprocs = comm.Get_size()\n",
    "\n",
    "#print(\"rank = \", rank, \"nprocs=\", nprocs)\n",
    "\n",
    "# setup function which will compute our matrix vector product\n",
    "def mat_mult_mpi(m,n):\n",
    "    # inputs:\n",
    "    # m : number of rows\n",
    "    # n : number of columns\n",
    "    # outputs:\n",
    "    # b : m x 1 vector\n",
    "\n",
    "    # get the local number of rows that a processor will store from the matrix\n",
    "    # use the floor function to ensure we have a integer value\n",
    "    m_local_size = int( np.floor( m / nprocs  ))\n",
    "\n",
    "    # track the remainder of m dividing by nprocs\n",
    "    rem = int( np.mod( m, nprocs ) )\n",
    "\n",
    "    # if the remainder is nonzero, add that number of rows to the last processor to m_local_size\n",
    "    if rem != 0 and rank == nprocs - 1:\n",
    "        m_local_size += np.mod(m, nprocs)\n",
    "\n",
    "    # use ones to generate A and v\n",
    "    A = np.random.rand(m_local_size, n)\n",
    "    v = np.random.rand(n,1)\n",
    "    b_local = np.random.rand(m_local_size, 1)\n",
    "\n",
    "    # use matmul to compute each component of the matrix-vector product for b\n",
    "    b_local[:] = np.matmul(A,v)\n",
    "\n",
    "    # send b_local to the main (0th) rank\n",
    "    if rank != 0:\n",
    "        comm.send(b_local, dest=0, tag=rank)\n",
    "\n",
    "    b = np.zeros((m,1))\n",
    "\n",
    "    # use the main rank (0th) to collect the entries of b using send/recv\n",
    "    # for this version, we will use the pickled version of send/recv, which will show slower performance\n",
    "    if rank == 0:\n",
    "        # set b to b_local using the local rank indices\n",
    "        b[rank*(m_local_size): (rank+1)*(m_local_size)] = b_local\n",
    "        if nprocs != 1:\n",
    "            for i in range(1, nprocs):\n",
    "                if i == nprocs-1:\n",
    "                    b[i*(m_local_size): (i+1)*(m_local_size)+rem] = comm.recv(source=i, tag=i)\n",
    "                else:\n",
    "                    b[i*(m_local_size): (i+1)*(m_local_size)] = comm.recv(source=i, tag=i)\n",
    "        else:\n",
    "            b = b_local\n",
    "        return b\n",
    "\n",
    "if __name__ == '__main__':\n",
    "    m_size = int(3200)\n",
    "    n_size = int(3200)\n",
    "    b = mat_mult_mpi(m_size,n_size)\n",
    "    #np.savetxt(\"b_\"+str(nprocs)+\".txt\", b)\n",
    "    #if rank == 0:\n",
    "    #    print(b)\n",
    "    # get wall time on given rank\n",
    "\n",
    "\n",
    "end = MPI.Wtime()\n",
    "Wtime= [end-start]\n",
    "import csv\n",
    "with open(str(nprocs)+\"_Wtime_\"+str(rank)+\".txt\",'a', newline='') as fd:\n",
    "   writer = csv.writer(fd, delimiter=',')\n",
    "   writer.writerow(Wtime)"
   ]
  },
  {
   "cell_type": "markdown",
   "metadata": {},
   "source": [
    "From here, we run this code over a variety of number of processors to see how the performance increases. \n",
    "\n",
    "\n",
    "### Slurm Setup\n",
    "\n",
    "To run the scaling analysis, we will use Slurm, the job manager used both on our Wendian and Mio HPC systems. \n",
    "\n",
    "The base bash Slurm script will look like:"
   ]
  },
  {
   "cell_type": "code",
   "execution_count": null,
   "metadata": {},
   "outputs": [],
   "source": [
    "#!/bin/bash\n",
    "#SBATCH --job-name=scaling_analysis    # Job name\n",
    "#SBATCH --time=00:30:00               # Time limit hrs:min:sec\n",
    "#SBATCH --output=test_%j.log   # Standard output and error log\n",
    "#SBATCH --ntasks-per-node=1\n",
    "#SBATCH -N 1\n",
    "#SBATCH --mem=90GB\n",
    "#SBATCH -A spr24_mpi4py_workshop\n",
    "pwd; hostname; date\n",
    "\n",
    "module purge\n",
    "module load apps/python3\n",
    "module load compilers/gcc\n",
    "module load mpi/openmpi/gcc-cuda\n",
    "conda activate mpi4py_workshop\n",
    "export OMP_NUM_THREADS=1\n",
    "export OMPI_MCA_btl_openib_allow_ib=1\n",
    "\n",
    "EXE=\"srun python row_wise_mpi.py\"\n",
    "\n",
    "# measure time in milliseconds\n",
    "START=$(date +%s.%N)\n",
    "time $EXE\n",
    "END=$(date +%s.%N)\n",
    "RUNTIME=$(echo \"$END - $START\" | bc -l)\n",
    "echo ${RUNTIME} >> ${SLURM_NPROCS}_runtime.txt\n",
    "date"
   ]
  },
  {
   "cell_type": "markdown",
   "metadata": {},
   "source": [
    "# References\n",
    "\n",
    "[1] https://www.cs.uky.edu/~jzhang/CS621/chapter7.pdf  \n",
    "[2] https://www.youtube.com/watch?v=pDBIoil-LTk  \n",
    "[3] https://www-inst.eecs.berkeley.edu/~n252/paper/Amdahl.pdf  \n",
    "[4] Gustafson, John L. \"Reevaluating Amdahl's law.\" Communications of the ACM 31, no. 5 (1988): 532-533: http://www.johngustafson.net/pubs/pub13/amdahl.htm  \n",
    "[5] https://xlinux.nist.gov/dads/HTML/singleprogrm.html"
   ]
  }
 ],
 "metadata": {
  "kernelspec": {
   "display_name": "Python 3 (ipykernel)",
   "language": "python",
   "name": "python3"
  },
  "language_info": {
   "codemirror_mode": {
    "name": "ipython",
    "version": 3
   },
   "file_extension": ".py",
   "mimetype": "text/x-python",
   "name": "python",
   "nbconvert_exporter": "python",
   "pygments_lexer": "ipython3",
   "version": "3.11.9"
  },
  "vscode": {
   "interpreter": {
    "hash": "31f2aee4e71d21fbe5cf8b01ff0e069b9275f58929596ceb00d14d90e3e16cd6"
   }
  }
 },
 "nbformat": 4,
 "nbformat_minor": 4
}
